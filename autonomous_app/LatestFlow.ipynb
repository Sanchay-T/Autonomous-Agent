{
 "cells": [
  {
   "cell_type": "code",
   "execution_count": 15,
   "id": "initial_id",
   "metadata": {
    "collapsed": true,
    "ExecuteTime": {
     "end_time": "2023-09-22T12:00:17.689165Z",
     "start_time": "2023-09-22T12:00:17.664846Z"
    }
   },
   "outputs": [],
   "source": [
    "from qdrant_client import QdrantClient\n",
    "import os\n",
    "import os\n",
    "from dotenv import load_dotenv\n",
    "import json\n",
    "import logging\n",
    "import pathlib\n",
    "from typing import List, Tuple\n",
    "from langchain.docstore.document import Document\n",
    "from langchain.document_loaders import TextLoader\n",
    "\n",
    "load_dotenv('./env')\n",
    "\n",
    "\n",
    "qdrant_client = QdrantClient(\n",
    "    url=\"https://fa1dffb4-23bf-4b57-8cc2-730c85ead277.us-east-1-0.aws.cloud.qdrant.io:6333\",\n",
    "    api_key=\"4SsvZIDDFK3WyLc-52oz0QjPia-zEOJ7DJXdlLTAukRcw1E99y1CmQ\",\n",
    ")\n",
    "\n",
    "LANGCHAIN_TRACING_V2 = os.environ.get('LANGCHAIN_TRACING_V2', 'true') == 'true'\n",
    "LANGCHAIN_ENDPOINT = os.environ.get('LANGCHAIN_ENDPOINT', 'https://api.smith.langchain.com')\n",
    "LANGCHAIN_API_KEY = os.environ['LANGCHAIN_API_KEY']  # Raises an error if not defined\n",
    "LANGCHAIN_PROJECT = os.environ.get('LANGCHAIN_PROJECT', 'Wovo-aws')\n"
   ]
  },
  {
   "cell_type": "markdown",
   "source": [
    "## Model Loading"
   ],
   "metadata": {
    "collapsed": false
   },
   "id": "95c5c128888fdb20"
  },
  {
   "cell_type": "code",
   "execution_count": 7,
   "outputs": [],
   "source": [
    "MODEL_NAME = \"gpt-4\"\n"
   ],
   "metadata": {
    "collapsed": false,
    "ExecuteTime": {
     "end_time": "2023-09-22T11:51:23.275222Z",
     "start_time": "2023-09-22T11:51:23.271278Z"
    }
   },
   "id": "1ed0f2794082f406"
  },
  {
   "cell_type": "markdown",
   "source": [
    "## Loading the Directory"
   ],
   "metadata": {
    "collapsed": false
   },
   "id": "6ca9e279c9da6bf9"
  },
  {
   "cell_type": "code",
   "execution_count": 26,
   "outputs": [
    {
     "data": {
      "text/plain": "[]"
     },
     "execution_count": 26,
     "metadata": {},
     "output_type": "execute_result"
    }
   ],
   "source": [
    "def load_documents(data_dir:str) -> List[Document]:\n",
    "    md_files = list(map(str, pathlib.Path(data_dir).glob(\"*.md\")))\n",
    "    documents = [\n",
    "        TextLoader(file_path=file_path , encoding=\"utf8\").load()[0] for file_path in md_files\n",
    "    ]    \n",
    "    return documents\n",
    "\n",
    "\n",
    "d = load_documents('documents/user_1.md')"
   ],
   "metadata": {
    "collapsed": false,
    "ExecuteTime": {
     "end_time": "2023-09-22T12:03:24.330332Z",
     "start_time": "2023-09-22T12:03:24.324558Z"
    }
   },
   "id": "954d09f9e0785566"
  },
  {
   "cell_type": "code",
   "execution_count": 21,
   "outputs": [
    {
     "ename": "RuntimeError",
     "evalue": "Error loading document/user_1.md",
     "output_type": "error",
     "traceback": [
      "\u001B[0;31m---------------------------------------------------------------------------\u001B[0m",
      "\u001B[0;31mFileNotFoundError\u001B[0m                         Traceback (most recent call last)",
      "File \u001B[0;32m~/Documents/AI Projects/Autonomous Agent/Autonomous-Agent/env/lib/python3.10/site-packages/langchain/document_loaders/text.py:40\u001B[0m, in \u001B[0;36mTextLoader.load\u001B[0;34m(self)\u001B[0m\n\u001B[1;32m     39\u001B[0m \u001B[38;5;28;01mtry\u001B[39;00m:\n\u001B[0;32m---> 40\u001B[0m     \u001B[38;5;28;01mwith\u001B[39;00m \u001B[38;5;28;43mopen\u001B[39;49m\u001B[43m(\u001B[49m\u001B[38;5;28;43mself\u001B[39;49m\u001B[38;5;241;43m.\u001B[39;49m\u001B[43mfile_path\u001B[49m\u001B[43m,\u001B[49m\u001B[43m \u001B[49m\u001B[43mencoding\u001B[49m\u001B[38;5;241;43m=\u001B[39;49m\u001B[38;5;28;43mself\u001B[39;49m\u001B[38;5;241;43m.\u001B[39;49m\u001B[43mencoding\u001B[49m\u001B[43m)\u001B[49m \u001B[38;5;28;01mas\u001B[39;00m f:\n\u001B[1;32m     41\u001B[0m         text \u001B[38;5;241m=\u001B[39m f\u001B[38;5;241m.\u001B[39mread()\n",
      "\u001B[0;31mFileNotFoundError\u001B[0m: [Errno 2] No such file or directory: 'document/user_1.md'",
      "\nThe above exception was the direct cause of the following exception:\n",
      "\u001B[0;31mRuntimeError\u001B[0m                              Traceback (most recent call last)",
      "Cell \u001B[0;32mIn[21], line 6\u001B[0m\n\u001B[1;32m      3\u001B[0m     dl \u001B[38;5;241m=\u001B[39m TextLoader(directory, \u001B[38;5;124m\"\u001B[39m\u001B[38;5;124m**/*.md\u001B[39m\u001B[38;5;124m\"\u001B[39m)\n\u001B[1;32m      4\u001B[0m     \u001B[38;5;28;01mreturn\u001B[39;00m dl\u001B[38;5;241m.\u001B[39mload()\n\u001B[0;32m----> 6\u001B[0m documents \u001B[38;5;241m=\u001B[39m \u001B[43mfind_md_files\u001B[49m\u001B[43m(\u001B[49m\u001B[38;5;124;43m'\u001B[39;49m\u001B[38;5;124;43mdocument/user_1.md\u001B[39;49m\u001B[38;5;124;43m'\u001B[39;49m\u001B[43m)\u001B[49m\n\u001B[1;32m      7\u001B[0m \u001B[38;5;28mlen\u001B[39m(documents)\n",
      "Cell \u001B[0;32mIn[21], line 4\u001B[0m, in \u001B[0;36mfind_md_files\u001B[0;34m(directory)\u001B[0m\n\u001B[1;32m      2\u001B[0m \u001B[38;5;124m\"\u001B[39m\u001B[38;5;124mFind all markdown files in a directory and return a LangChain Document\u001B[39m\u001B[38;5;124m\"\u001B[39m\n\u001B[1;32m      3\u001B[0m dl \u001B[38;5;241m=\u001B[39m TextLoader(directory, \u001B[38;5;124m\"\u001B[39m\u001B[38;5;124m**/*.md\u001B[39m\u001B[38;5;124m\"\u001B[39m)\n\u001B[0;32m----> 4\u001B[0m \u001B[38;5;28;01mreturn\u001B[39;00m \u001B[43mdl\u001B[49m\u001B[38;5;241;43m.\u001B[39;49m\u001B[43mload\u001B[49m\u001B[43m(\u001B[49m\u001B[43m)\u001B[49m\n",
      "File \u001B[0;32m~/Documents/AI Projects/Autonomous Agent/Autonomous-Agent/env/lib/python3.10/site-packages/langchain/document_loaders/text.py:56\u001B[0m, in \u001B[0;36mTextLoader.load\u001B[0;34m(self)\u001B[0m\n\u001B[1;32m     54\u001B[0m         \u001B[38;5;28;01mraise\u001B[39;00m \u001B[38;5;167;01mRuntimeError\u001B[39;00m(\u001B[38;5;124mf\u001B[39m\u001B[38;5;124m\"\u001B[39m\u001B[38;5;124mError loading \u001B[39m\u001B[38;5;132;01m{\u001B[39;00m\u001B[38;5;28mself\u001B[39m\u001B[38;5;241m.\u001B[39mfile_path\u001B[38;5;132;01m}\u001B[39;00m\u001B[38;5;124m\"\u001B[39m) \u001B[38;5;28;01mfrom\u001B[39;00m \u001B[38;5;21;01me\u001B[39;00m\n\u001B[1;32m     55\u001B[0m \u001B[38;5;28;01mexcept\u001B[39;00m \u001B[38;5;167;01mException\u001B[39;00m \u001B[38;5;28;01mas\u001B[39;00m e:\n\u001B[0;32m---> 56\u001B[0m     \u001B[38;5;28;01mraise\u001B[39;00m \u001B[38;5;167;01mRuntimeError\u001B[39;00m(\u001B[38;5;124mf\u001B[39m\u001B[38;5;124m\"\u001B[39m\u001B[38;5;124mError loading \u001B[39m\u001B[38;5;132;01m{\u001B[39;00m\u001B[38;5;28mself\u001B[39m\u001B[38;5;241m.\u001B[39mfile_path\u001B[38;5;132;01m}\u001B[39;00m\u001B[38;5;124m\"\u001B[39m) \u001B[38;5;28;01mfrom\u001B[39;00m \u001B[38;5;21;01me\u001B[39;00m\n\u001B[1;32m     58\u001B[0m metadata \u001B[38;5;241m=\u001B[39m {\u001B[38;5;124m\"\u001B[39m\u001B[38;5;124msource\u001B[39m\u001B[38;5;124m\"\u001B[39m: \u001B[38;5;28mself\u001B[39m\u001B[38;5;241m.\u001B[39mfile_path}\n\u001B[1;32m     59\u001B[0m \u001B[38;5;28;01mreturn\u001B[39;00m [Document(page_content\u001B[38;5;241m=\u001B[39mtext, metadata\u001B[38;5;241m=\u001B[39mmetadata)]\n",
      "\u001B[0;31mRuntimeError\u001B[0m: Error loading document/user_1.md"
     ]
    }
   ],
   "source": [
    "\n",
    "def find_md_files(directory):\n",
    "    \"Find all markdown files in a directory and return a LangChain Document\"\n",
    "    dl = TextLoader(directory, \"**/*.md\")\n",
    "    return dl.load()\n",
    "\n",
    "documents = find_md_files('document/user_1.md')\n",
    "len(documents)"
   ],
   "metadata": {
    "collapsed": false,
    "ExecuteTime": {
     "end_time": "2023-09-22T12:02:49.881401Z",
     "start_time": "2023-09-22T12:02:49.860929Z"
    }
   },
   "id": "c425a8805b441667"
  },
  {
   "cell_type": "code",
   "execution_count": null,
   "outputs": [],
   "source": [],
   "metadata": {
    "collapsed": false
   },
   "id": "ca5c786aee0f7a4c"
  }
 ],
 "metadata": {
  "kernelspec": {
   "display_name": "Python 3",
   "language": "python",
   "name": "python3"
  },
  "language_info": {
   "codemirror_mode": {
    "name": "ipython",
    "version": 2
   },
   "file_extension": ".py",
   "mimetype": "text/x-python",
   "name": "python",
   "nbconvert_exporter": "python",
   "pygments_lexer": "ipython2",
   "version": "2.7.6"
  }
 },
 "nbformat": 4,
 "nbformat_minor": 5
}
