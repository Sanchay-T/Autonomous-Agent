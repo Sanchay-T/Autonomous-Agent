{
 "cells": [
  {
   "cell_type": "code",
   "execution_count": 1,
   "id": "initial_id",
   "metadata": {
    "ExecuteTime": {
     "end_time": "2023-09-22T12:00:17.689165Z",
     "start_time": "2023-09-22T12:00:17.664846Z"
    },
    "collapsed": true
   },
   "outputs": [],
   "source": [
    "from qdrant_client import QdrantClient\n",
    "import os\n",
    "import os\n",
    "from dotenv import load_dotenv\n",
    "import json\n",
    "import logging\n",
    "import pathlib\n",
    "from typing import List, Tuple\n",
    "from langchain.docstore.document import Document\n",
    "from langchain.document_loaders import TextLoader\n",
    "\n",
    "load_dotenv('./env')\n",
    "\n",
    "\n",
    "qdrant_client = QdrantClient(\n",
    "    url=\"https://fa1dffb4-23bf-4b57-8cc2-730c85ead277.us-east-1-0.aws.cloud.qdrant.io:6333\",\n",
    "    api_key=\"4SsvZIDDFK3WyLc-52oz0QjPia-zEOJ7DJXdlLTAukRcw1E99y1CmQ\",\n",
    ")\n",
    "\n",
    "LANGCHAIN_TRACING_V2 = os.environ.get('LANGCHAIN_TRACING_V2', 'true') == 'true'\n",
    "LANGCHAIN_ENDPOINT = os.environ.get('LANGCHAIN_ENDPOINT', 'https://api.smith.langchain.com')\n",
    "LANGCHAIN_API_KEY = os.environ['LANGCHAIN_API_KEY']  # Raises an error if not defined\n",
    "LANGCHAIN_PROJECT = os.environ.get('LANGCHAIN_PROJECT', 'Wovo-aws')\n"
   ]
  },
  {
   "cell_type": "markdown",
   "id": "95c5c128888fdb20",
   "metadata": {
    "collapsed": false
   },
   "source": [
    "## Model Loading"
   ]
  },
  {
   "cell_type": "code",
   "execution_count": 2,
   "id": "1ed0f2794082f406",
   "metadata": {
    "ExecuteTime": {
     "end_time": "2023-09-22T11:51:23.275222Z",
     "start_time": "2023-09-22T11:51:23.271278Z"
    },
    "collapsed": false
   },
   "outputs": [],
   "source": [
    "MODEL_NAME = \"gpt-4\"\n"
   ]
  },
  {
   "cell_type": "markdown",
   "id": "6ca9e279c9da6bf9",
   "metadata": {
    "collapsed": false
   },
   "source": [
    "## Loading the Directory"
   ]
  },
  {
   "cell_type": "code",
   "execution_count": 3,
   "id": "954d09f9e0785566",
   "metadata": {
    "ExecuteTime": {
     "end_time": "2023-09-22T12:03:24.330332Z",
     "start_time": "2023-09-22T12:03:24.324558Z"
    },
    "collapsed": false
   },
   "outputs": [],
   "source": [
    "def load_documents(data_dir:str) -> List[Document]:\n",
    "    md_files = list(map(str, pathlib.Path(data_dir).glob(\"*.md\")))\n",
    "    documents = [\n",
    "        TextLoader(file_path=file_path , encoding=\"utf8\").load()[0] for file_path in md_files\n",
    "    ]    \n",
    "    return documents\n",
    "\n",
    "\n",
    "d = load_documents('documents/user_1.md')"
   ]
  },
  {
   "cell_type": "code",
   "execution_count": 4,
   "id": "c425a8805b441667",
   "metadata": {
    "ExecuteTime": {
     "end_time": "2023-09-22T12:02:49.881401Z",
     "start_time": "2023-09-22T12:02:49.860929Z"
    },
    "collapsed": false
   },
   "outputs": [
    {
     "ename": "RuntimeError",
     "evalue": "Error loading documents/user_1.md",
     "output_type": "error",
     "traceback": [
      "\u001b[1;31m---------------------------------------------------------------------------\u001b[0m",
      "\u001b[1;31mLookupError\u001b[0m                               Traceback (most recent call last)",
      "File \u001b[1;32mc:\\Users\\ayusi\\Envs\\auto_vinod\\lib\\site-packages\\langchain\\document_loaders\\text.py:40\u001b[0m, in \u001b[0;36mTextLoader.load\u001b[1;34m(self)\u001b[0m\n\u001b[0;32m     39\u001b[0m \u001b[39mtry\u001b[39;00m:\n\u001b[1;32m---> 40\u001b[0m     \u001b[39mwith\u001b[39;00m \u001b[39mopen\u001b[39;49m(\u001b[39mself\u001b[39;49m\u001b[39m.\u001b[39;49mfile_path, encoding\u001b[39m=\u001b[39;49m\u001b[39mself\u001b[39;49m\u001b[39m.\u001b[39;49mencoding) \u001b[39mas\u001b[39;00m f:\n\u001b[0;32m     41\u001b[0m         text \u001b[39m=\u001b[39m f\u001b[39m.\u001b[39mread()\n",
      "\u001b[1;31mLookupError\u001b[0m: unknown encoding: **/*.md",
      "\nThe above exception was the direct cause of the following exception:\n",
      "\u001b[1;31mRuntimeError\u001b[0m                              Traceback (most recent call last)",
      "\u001b[1;32mc:\\Users\\ayusi\\OneDrive\\Desktop\\Hackathon-Projects\\Autonomous Agent\\autonomous_app\\LatestFlow.ipynb Cell 6\u001b[0m line \u001b[0;36m6\n\u001b[0;32m      <a href='vscode-notebook-cell:/c%3A/Users/ayusi/OneDrive/Desktop/Hackathon-Projects/Autonomous%20Agent/autonomous_app/LatestFlow.ipynb#W5sZmlsZQ%3D%3D?line=2'>3</a>\u001b[0m     dl \u001b[39m=\u001b[39m TextLoader(directory, \u001b[39m\"\u001b[39m\u001b[39m**/*.md\u001b[39m\u001b[39m\"\u001b[39m)\n\u001b[0;32m      <a href='vscode-notebook-cell:/c%3A/Users/ayusi/OneDrive/Desktop/Hackathon-Projects/Autonomous%20Agent/autonomous_app/LatestFlow.ipynb#W5sZmlsZQ%3D%3D?line=3'>4</a>\u001b[0m     \u001b[39mreturn\u001b[39;00m dl\u001b[39m.\u001b[39mload()\n\u001b[1;32m----> <a href='vscode-notebook-cell:/c%3A/Users/ayusi/OneDrive/Desktop/Hackathon-Projects/Autonomous%20Agent/autonomous_app/LatestFlow.ipynb#W5sZmlsZQ%3D%3D?line=5'>6</a>\u001b[0m documents \u001b[39m=\u001b[39m find_md_files(\u001b[39m'\u001b[39;49m\u001b[39mdocuments/user_1.md\u001b[39;49m\u001b[39m'\u001b[39;49m)\n\u001b[0;32m      <a href='vscode-notebook-cell:/c%3A/Users/ayusi/OneDrive/Desktop/Hackathon-Projects/Autonomous%20Agent/autonomous_app/LatestFlow.ipynb#W5sZmlsZQ%3D%3D?line=6'>7</a>\u001b[0m \u001b[39mlen\u001b[39m(documents)\n",
      "\u001b[1;32mc:\\Users\\ayusi\\OneDrive\\Desktop\\Hackathon-Projects\\Autonomous Agent\\autonomous_app\\LatestFlow.ipynb Cell 6\u001b[0m line \u001b[0;36m4\n\u001b[0;32m      <a href='vscode-notebook-cell:/c%3A/Users/ayusi/OneDrive/Desktop/Hackathon-Projects/Autonomous%20Agent/autonomous_app/LatestFlow.ipynb#W5sZmlsZQ%3D%3D?line=1'>2</a>\u001b[0m \u001b[39m\"\u001b[39m\u001b[39mFind all markdown files in a directory and return a LangChain Document\u001b[39m\u001b[39m\"\u001b[39m\n\u001b[0;32m      <a href='vscode-notebook-cell:/c%3A/Users/ayusi/OneDrive/Desktop/Hackathon-Projects/Autonomous%20Agent/autonomous_app/LatestFlow.ipynb#W5sZmlsZQ%3D%3D?line=2'>3</a>\u001b[0m dl \u001b[39m=\u001b[39m TextLoader(directory, \u001b[39m\"\u001b[39m\u001b[39m**/*.md\u001b[39m\u001b[39m\"\u001b[39m)\n\u001b[1;32m----> <a href='vscode-notebook-cell:/c%3A/Users/ayusi/OneDrive/Desktop/Hackathon-Projects/Autonomous%20Agent/autonomous_app/LatestFlow.ipynb#W5sZmlsZQ%3D%3D?line=3'>4</a>\u001b[0m \u001b[39mreturn\u001b[39;00m dl\u001b[39m.\u001b[39;49mload()\n",
      "File \u001b[1;32mc:\\Users\\ayusi\\Envs\\auto_vinod\\lib\\site-packages\\langchain\\document_loaders\\text.py:56\u001b[0m, in \u001b[0;36mTextLoader.load\u001b[1;34m(self)\u001b[0m\n\u001b[0;32m     54\u001b[0m         \u001b[39mraise\u001b[39;00m \u001b[39mRuntimeError\u001b[39;00m(\u001b[39mf\u001b[39m\u001b[39m\"\u001b[39m\u001b[39mError loading \u001b[39m\u001b[39m{\u001b[39;00m\u001b[39mself\u001b[39m\u001b[39m.\u001b[39mfile_path\u001b[39m}\u001b[39;00m\u001b[39m\"\u001b[39m) \u001b[39mfrom\u001b[39;00m \u001b[39me\u001b[39;00m\n\u001b[0;32m     55\u001b[0m \u001b[39mexcept\u001b[39;00m \u001b[39mException\u001b[39;00m \u001b[39mas\u001b[39;00m e:\n\u001b[1;32m---> 56\u001b[0m     \u001b[39mraise\u001b[39;00m \u001b[39mRuntimeError\u001b[39;00m(\u001b[39mf\u001b[39m\u001b[39m\"\u001b[39m\u001b[39mError loading \u001b[39m\u001b[39m{\u001b[39;00m\u001b[39mself\u001b[39m\u001b[39m.\u001b[39mfile_path\u001b[39m}\u001b[39;00m\u001b[39m\"\u001b[39m) \u001b[39mfrom\u001b[39;00m \u001b[39me\u001b[39;00m\n\u001b[0;32m     58\u001b[0m metadata \u001b[39m=\u001b[39m {\u001b[39m\"\u001b[39m\u001b[39msource\u001b[39m\u001b[39m\"\u001b[39m: \u001b[39mself\u001b[39m\u001b[39m.\u001b[39mfile_path}\n\u001b[0;32m     59\u001b[0m \u001b[39mreturn\u001b[39;00m [Document(page_content\u001b[39m=\u001b[39mtext, metadata\u001b[39m=\u001b[39mmetadata)]\n",
      "\u001b[1;31mRuntimeError\u001b[0m: Error loading documents/user_1.md"
     ]
    }
   ],
   "source": [
    "\n",
    "def find_md_files(directory):\n",
    "    \"Find all markdown files in a directory and return a LangChain Document\"\n",
    "    dl = TextLoader(directory, \"**/*.md\")\n",
    "    return dl.load()\n",
    "\n",
    "documents = find_md_files('documents/user_1.md')\n",
    "len(documents)"
   ]
  },
  {
   "cell_type": "code",
   "execution_count": null,
   "id": "ca5c786aee0f7a4c",
   "metadata": {
    "collapsed": false
   },
   "outputs": [],
   "source": []
  }
 ],
 "metadata": {
  "kernelspec": {
   "display_name": "Python 3",
   "language": "python",
   "name": "python3"
  },
  "language_info": {
   "codemirror_mode": {
    "name": "ipython",
    "version": 3
   },
   "file_extension": ".py",
   "mimetype": "text/x-python",
   "name": "python",
   "nbconvert_exporter": "python",
   "pygments_lexer": "ipython3",
   "version": "3.10.2"
  }
 },
 "nbformat": 4,
 "nbformat_minor": 5
}
